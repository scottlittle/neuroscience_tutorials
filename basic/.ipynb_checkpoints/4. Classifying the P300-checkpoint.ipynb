{
 "cells": [
  {
   "cell_type": "markdown",
   "metadata": {},
   "source": [
    "# 4. Classifying the P300\n",
    "\n",
    "The first tutorial covered visualizing the P300 potential through an ERP plot. This tutorial covers the classification of the P300 potential. The EEG recording used here is made of a subject that is presented with a screen containing 6 icons. These icons were highlighted one by one. For each trial, each icon was highlighted a total of 10 times. The subject selected one of the icons and mentally counted the number of times the chosen icon was highlighted (which was ofcourse always 10), a task designed to keep him focussed on this icon. Every time the chosen icon, which I will refer to now as the target, was highlighted, a P300 potential occurs in the EEG signal. By determining which of the 6 icons corresponds to the largest P300, we can determine which of the icons was the target. This paradigm is a simple version of the famous P300 speller [1].\n",
    "\n",
    "[1] Farwell, L. A., & Donchin, E. (1988). Talking off the top of your head: toward a mental prosthesis utilizing event-related brain potentials. *Electroencephalography and clinical neurophysiology*, 70(6), 510–523, http://www.ncbi.nlm.nih.gov/pubmed/2461285"
   ]
  },
  {
   "cell_type": "code",
   "execution_count": 1,
   "metadata": {
    "collapsed": false
   },
   "outputs": [
    {
     "name": "stdout",
     "output_type": "stream",
     "text": [
      "Populating the interactive namespace from numpy and matplotlib\n"
     ]
    }
   ],
   "source": [
    "%pylab inline"
   ]
  },
  {
   "cell_type": "markdown",
   "metadata": {},
   "source": [
    "The data is stored in my public dropbox account and is 53 Mb in size. The following downloads it:"
   ]
  },
  {
   "cell_type": "code",
   "execution_count": 2,
   "metadata": {
    "collapsed": false
   },
   "outputs": [],
   "source": [
    "import urllib\n",
    "urllib.urlretrieve('https://dl.dropboxusercontent.com/u/79303435/neuroscience_tutorials/tutorial4-01.mat?dl=1', 'tutorial4-01.mat');"
   ]
  },
  {
   "cell_type": "markdown",
   "metadata": {},
   "source": [
    "Loading the data should look very familiar by now:"
   ]
  },
  {
   "cell_type": "code",
   "execution_count": 3,
   "metadata": {
    "collapsed": false
   },
   "outputs": [
    {
     "ename": "IOError",
     "evalue": "[Errno 2] No such file or directory: 'tutorial4-03.mat'",
     "output_type": "error",
     "traceback": [
      "\u001b[0;31m---------------------------------------------------------------------------\u001b[0m",
      "\u001b[0;31mIOError\u001b[0m                                   Traceback (most recent call last)",
      "\u001b[0;32m<ipython-input-3-f60e93018cbd>\u001b[0m in \u001b[0;36m<module>\u001b[0;34m()\u001b[0m\n\u001b[1;32m      1\u001b[0m \u001b[0;32mimport\u001b[0m \u001b[0mscipy\u001b[0m\u001b[0;34m.\u001b[0m\u001b[0mio\u001b[0m\u001b[0;34m\u001b[0m\u001b[0m\n\u001b[0;32m----> 2\u001b[0;31m \u001b[0mm\u001b[0m \u001b[0;34m=\u001b[0m \u001b[0mscipy\u001b[0m\u001b[0;34m.\u001b[0m\u001b[0mio\u001b[0m\u001b[0;34m.\u001b[0m\u001b[0mloadmat\u001b[0m\u001b[0;34m(\u001b[0m\u001b[0;34m'tutorial4-03.mat'\u001b[0m\u001b[0;34m)\u001b[0m\u001b[0;34m\u001b[0m\u001b[0m\n\u001b[0m\u001b[1;32m      3\u001b[0m \u001b[0;34m\u001b[0m\u001b[0m\n\u001b[1;32m      4\u001b[0m \u001b[0mEEG\u001b[0m \u001b[0;34m=\u001b[0m \u001b[0mm\u001b[0m\u001b[0;34m[\u001b[0m\u001b[0;34m'EEG'\u001b[0m\u001b[0;34m]\u001b[0m\u001b[0;34m\u001b[0m\u001b[0m\n\u001b[1;32m      5\u001b[0m \u001b[0mchannel_names\u001b[0m \u001b[0;34m=\u001b[0m \u001b[0;34m[\u001b[0m\u001b[0ms\u001b[0m\u001b[0;34m.\u001b[0m\u001b[0mstrip\u001b[0m\u001b[0;34m(\u001b[0m\u001b[0;34m)\u001b[0m \u001b[0;32mfor\u001b[0m \u001b[0ms\u001b[0m \u001b[0;32min\u001b[0m \u001b[0mm\u001b[0m\u001b[0;34m[\u001b[0m\u001b[0;34m'channel_names'\u001b[0m\u001b[0;34m]\u001b[0m\u001b[0;34m]\u001b[0m\u001b[0;34m\u001b[0m\u001b[0m\n",
      "\u001b[0;32m/Users/scott/anaconda/lib/python2.7/site-packages/scipy/io/matlab/mio.pyc\u001b[0m in \u001b[0;36mloadmat\u001b[0;34m(file_name, mdict, appendmat, **kwargs)\u001b[0m\n\u001b[1;32m    132\u001b[0m     \"\"\"\n\u001b[1;32m    133\u001b[0m     \u001b[0mvariable_names\u001b[0m \u001b[0;34m=\u001b[0m \u001b[0mkwargs\u001b[0m\u001b[0;34m.\u001b[0m\u001b[0mpop\u001b[0m\u001b[0;34m(\u001b[0m\u001b[0;34m'variable_names'\u001b[0m\u001b[0;34m,\u001b[0m \u001b[0mNone\u001b[0m\u001b[0;34m)\u001b[0m\u001b[0;34m\u001b[0m\u001b[0m\n\u001b[0;32m--> 134\u001b[0;31m     \u001b[0mMR\u001b[0m \u001b[0;34m=\u001b[0m \u001b[0mmat_reader_factory\u001b[0m\u001b[0;34m(\u001b[0m\u001b[0mfile_name\u001b[0m\u001b[0;34m,\u001b[0m \u001b[0mappendmat\u001b[0m\u001b[0;34m,\u001b[0m \u001b[0;34m**\u001b[0m\u001b[0mkwargs\u001b[0m\u001b[0;34m)\u001b[0m\u001b[0;34m\u001b[0m\u001b[0m\n\u001b[0m\u001b[1;32m    135\u001b[0m     \u001b[0mmatfile_dict\u001b[0m \u001b[0;34m=\u001b[0m \u001b[0mMR\u001b[0m\u001b[0;34m.\u001b[0m\u001b[0mget_variables\u001b[0m\u001b[0;34m(\u001b[0m\u001b[0mvariable_names\u001b[0m\u001b[0;34m)\u001b[0m\u001b[0;34m\u001b[0m\u001b[0m\n\u001b[1;32m    136\u001b[0m     \u001b[0;32mif\u001b[0m \u001b[0mmdict\u001b[0m \u001b[0;32mis\u001b[0m \u001b[0;32mnot\u001b[0m \u001b[0mNone\u001b[0m\u001b[0;34m:\u001b[0m\u001b[0;34m\u001b[0m\u001b[0m\n",
      "\u001b[0;32m/Users/scott/anaconda/lib/python2.7/site-packages/scipy/io/matlab/mio.pyc\u001b[0m in \u001b[0;36mmat_reader_factory\u001b[0;34m(file_name, appendmat, **kwargs)\u001b[0m\n\u001b[1;32m     55\u001b[0m        \u001b[0mtype\u001b[0m \u001b[0mdetected\u001b[0m \u001b[0;32min\u001b[0m \u001b[0;34m`\u001b[0m\u001b[0mfilename\u001b[0m\u001b[0;34m`\u001b[0m\u001b[0;34m.\u001b[0m\u001b[0;34m\u001b[0m\u001b[0m\n\u001b[1;32m     56\u001b[0m     \"\"\"\n\u001b[0;32m---> 57\u001b[0;31m     \u001b[0mbyte_stream\u001b[0m \u001b[0;34m=\u001b[0m \u001b[0m_open_file\u001b[0m\u001b[0;34m(\u001b[0m\u001b[0mfile_name\u001b[0m\u001b[0;34m,\u001b[0m \u001b[0mappendmat\u001b[0m\u001b[0;34m)\u001b[0m\u001b[0;34m\u001b[0m\u001b[0m\n\u001b[0m\u001b[1;32m     58\u001b[0m     \u001b[0mmjv\u001b[0m\u001b[0;34m,\u001b[0m \u001b[0mmnv\u001b[0m \u001b[0;34m=\u001b[0m \u001b[0mget_matfile_version\u001b[0m\u001b[0;34m(\u001b[0m\u001b[0mbyte_stream\u001b[0m\u001b[0;34m)\u001b[0m\u001b[0;34m\u001b[0m\u001b[0m\n\u001b[1;32m     59\u001b[0m     \u001b[0;32mif\u001b[0m \u001b[0mmjv\u001b[0m \u001b[0;34m==\u001b[0m \u001b[0;36m0\u001b[0m\u001b[0;34m:\u001b[0m\u001b[0;34m\u001b[0m\u001b[0m\n",
      "\u001b[0;32m/Users/scott/anaconda/lib/python2.7/site-packages/scipy/io/matlab/mio.pyc\u001b[0m in \u001b[0;36m_open_file\u001b[0;34m(file_like, appendmat)\u001b[0m\n\u001b[1;32m     21\u001b[0m     \u001b[0;32mif\u001b[0m \u001b[0misinstance\u001b[0m\u001b[0;34m(\u001b[0m\u001b[0mfile_like\u001b[0m\u001b[0;34m,\u001b[0m \u001b[0mstring_types\u001b[0m\u001b[0;34m)\u001b[0m\u001b[0;34m:\u001b[0m\u001b[0;34m\u001b[0m\u001b[0m\n\u001b[1;32m     22\u001b[0m         \u001b[0;32mtry\u001b[0m\u001b[0;34m:\u001b[0m\u001b[0;34m\u001b[0m\u001b[0m\n\u001b[0;32m---> 23\u001b[0;31m             \u001b[0;32mreturn\u001b[0m \u001b[0mopen\u001b[0m\u001b[0;34m(\u001b[0m\u001b[0mfile_like\u001b[0m\u001b[0;34m,\u001b[0m \u001b[0;34m'rb'\u001b[0m\u001b[0;34m)\u001b[0m\u001b[0;34m\u001b[0m\u001b[0m\n\u001b[0m\u001b[1;32m     24\u001b[0m         \u001b[0;32mexcept\u001b[0m \u001b[0mIOError\u001b[0m \u001b[0;32mas\u001b[0m \u001b[0me\u001b[0m\u001b[0;34m:\u001b[0m\u001b[0;34m\u001b[0m\u001b[0m\n\u001b[1;32m     25\u001b[0m             \u001b[0;32mif\u001b[0m \u001b[0mappendmat\u001b[0m \u001b[0;32mand\u001b[0m \u001b[0;32mnot\u001b[0m \u001b[0mfile_like\u001b[0m\u001b[0;34m.\u001b[0m\u001b[0mendswith\u001b[0m\u001b[0;34m(\u001b[0m\u001b[0;34m'.mat'\u001b[0m\u001b[0;34m)\u001b[0m\u001b[0;34m:\u001b[0m\u001b[0;34m\u001b[0m\u001b[0m\n",
      "\u001b[0;31mIOError\u001b[0m: [Errno 2] No such file or directory: 'tutorial4-03.mat'"
     ]
    }
   ],
   "source": [
    "import scipy.io\n",
    "m = scipy.io.loadmat('tutorial4-03.mat')\n",
    "\n",
    "EEG = m['EEG']\n",
    "channel_names = [s.strip() for s in m['channel_names']]\n",
    "event_onsets = m['event_onsets']\n",
    "event_codes = m['event_codes']\n",
    "targets = m['targets'][0] - 1 # -1 because the original list was 1-6, but numpy indexing is 0-5\n",
    "sample_rate = m['sample_rate'][0][0]\n",
    "\n",
    "ntrials = len(targets)\n",
    "classes = unique(targets)\n",
    "nclasses = len(classes)\n",
    "nrepetitions = event_onsets.shape[1] / nclasses\n",
    "nchannels = len(channel_names)\n",
    "\n",
    "print 'Duration of recording is', EEG.shape[1] / float(sample_rate), 'seconds.'\n",
    "print 'Number of EEG channels:', nchannels\n",
    "print\n",
    "print 'Number of trials:', ntrials\n",
    "print 'Target icon for each trial:', targets\n",
    "print 'Number of icons on the screen:', nclasses\n",
    "print 'Number of times each icon was highlighted:', nrepetitions\n",
    "print 'Shape of event matrix:', event_onsets.shape, 'ntrials x (nclasses * nrepetitions)'"
   ]
  },
  {
   "cell_type": "markdown",
   "metadata": {},
   "source": [
    "Cutting the data into trials. This time, it becomes a 5 dimensional array. Take a look at the resulting dimensions reading the following description:\n",
    "\n",
    "There are 12 trials. During each of these trials, data was collected for each of the 6 icons on the screen. Each icon was highlighted 10 times. The time-onsets when an icon was highlighted is called an epoch. For each epoch, the time interval 0.1 s *before* the onset until 1 s *after* the onset is extracted (1126 samples). The recording contains 32 channels."
   ]
  },
  {
   "cell_type": "code",
   "execution_count": null,
   "metadata": {
    "collapsed": false
   },
   "outputs": [],
   "source": [
    "window = [int(-0.1*sample_rate), int(1.0*sample_rate)]\n",
    "nsamples = window[1] - window[0]\n",
    "\n",
    "trials = np.zeros((nchannels, nsamples, nrepetitions, nclasses, ntrials))\n",
    "\n",
    "for trial in range(ntrials):\n",
    "    for cl in classes:\n",
    "        onsets = event_onsets[trial, event_codes[trial,:] == (cl + 1)]\n",
    "        for repetition, onset in enumerate(onsets):\n",
    "            trials[:, :, repetition, cl, trial] = EEG[:, window[0]+onset:window[1]+onset]\n",
    "\n",
    "print 'shape of trial matrix:', trials.shape"
   ]
  },
  {
   "cell_type": "markdown",
   "metadata": {},
   "source": [
    "During the first tutorial, the EEG signal was already filtered in advance. This data is not, so we do it here. The function below applies a bandpass filter with a passband between 0.5 - 30 Hz. Also, each epoch is baselined. The baseline in this case is the mean EEG voltage starting from 0.1 s before the onset of the epoch until the onset, which we regard as 'resting EEG'. This baseline is substracted from the rest of the epoch, so the 'resing EEG' voltage is 0. Any changes to the resting EEG (such as the P300) as now relative to 0."
   ]
  },
  {
   "cell_type": "code",
   "execution_count": null,
   "metadata": {
    "collapsed": false
   },
   "outputs": [],
   "source": [
    "import scipy.signal\n",
    "\n",
    "# Design and apply the bandpass filter\n",
    "a, b = scipy.signal.iirfilter(3, [0.5/(sample_rate/2.0), 30/(sample_rate/2.0)])\n",
    "trials_filt = scipy.signal.filtfilt(a, b, trials, axis=1)\n",
    "    \n",
    "# Calculate the baseline amplitude on the first 0.1 seconds (this corresponds to the time interval -0.1 - 0)\n",
    "baseline = mean(trials_filt[:, 0:int(0.1*sample_rate), ...], axis=1)\n",
    "trials_filt = trials_filt - tile(baseline[:, np.newaxis, :, :], (1, nsamples, 1, 1, 1))"
   ]
  },
  {
   "cell_type": "markdown",
   "metadata": {},
   "source": [
    "Since we'll be using machine learning, split the data into a train and a test set 50-50, like we did in the previous tutorial:"
   ]
  },
  {
   "cell_type": "code",
   "execution_count": null,
   "metadata": {
    "collapsed": false
   },
   "outputs": [],
   "source": [
    "train_split = 0.5\n",
    "ntrain_trials = int(train_split * ntrials)\n",
    "ntest_trials = ntrials - ntrain_trials\n",
    "\n",
    "train = trials_filt[..., :ntrain_trials]\n",
    "train_targets = targets[:ntrain_trials]\n",
    "\n",
    "test = trials_filt[..., ntrain_trials:]\n",
    "test_targets = targets[ntrain_trials:]\n",
    "\n",
    "print 'channels x samples x repetitions x classes x trials'\n",
    "print 'Training data:', train.shape\n",
    "print 'Test data:    ', test.shape"
   ]
  },
  {
   "cell_type": "markdown",
   "metadata": {},
   "source": [
    "The training data can be simplified a little bit. We don't care any longer which epoch belongs to which icon on the screen. We only care about epochs where the target was highlighted versus epochs where a nontarget was highlighted."
   ]
  },
  {
   "cell_type": "code",
   "execution_count": null,
   "metadata": {
    "collapsed": false
   },
   "outputs": [],
   "source": [
    "target_trials = []\n",
    "nontarget_trials = []\n",
    "for trial in range(ntrain_trials):\n",
    "    for cl in range(nclasses):\n",
    "        if cl == train_targets[trial]:\n",
    "            target_trials.append( train[..., cl, trial] )\n",
    "        else:\n",
    "            nontarget_trials.append( train[..., cl, trial] )\n",
    "\n",
    "# The shape of the data is now\n",
    "# trials x channels x samples x repetitions\n",
    "target_trials = array(target_trials)\n",
    "nontarget_trials = array(nontarget_trials)\n",
    "\n",
    "# Rearranging the axes a bit to\n",
    "# channels x samples x repetitions x trials\n",
    "target_trials = target_trials.transpose([1,2,3,0])\n",
    "nontarget_trials = nontarget_trials.transpose([1,2,3,0])\n",
    "\n",
    "print 'channels x samples x repetitions x trials'\n",
    "print target_trials.shape\n",
    "print nontarget_trials.shape"
   ]
  },
  {
   "cell_type": "markdown",
   "metadata": {},
   "source": [
    "Before attempting classification, it is wise to first visualize the data. We do this in the same manner as during tutorial 1 with an ERP plot. So we bring back the `plot_eeg` function with some small improvements:"
   ]
  },
  {
   "cell_type": "code",
   "execution_count": null,
   "metadata": {
    "collapsed": false
   },
   "outputs": [],
   "source": [
    "from matplotlib.collections import LineCollection\n",
    "\n",
    "def plot_eeg(EEG, vspace=100, color='k'):\n",
    "    '''\n",
    "    Plot the EEG data, stacking the channels horizontally on top of each other.\n",
    "\n",
    "    Arguments:\n",
    "    EEG    - Array (channels x samples) containing the EEG data\n",
    "    vspace - Amount of vertical space to put between the channels (default 100)\n",
    "    color  - Color to draw the EEG in (default black)\n",
    "    '''\n",
    "    nchannels, nsamples = EEG.shape\n",
    "    \n",
    "    bases = vspace * arange(nchannels)\n",
    "    EEG = EEG.T + bases\n",
    "    \n",
    "    # Calculate a timeline in seconds, knowing that the extracted time interval was -0.1 - 1.0 seconds\n",
    "    time = arange(nsamples) / float(sample_rate)\n",
    "    time -= 0.1\n",
    "        \n",
    "    # Plot EEG versus time as a line collection. This is a small improvement from the version in tutorial 1\n",
    "    # and is useful for creating a figure legend later on. By default in a legend, every line gets one entry.\n",
    "    # But in this EEG plot, multiple lines share the same entry, so we use a line collection.\n",
    "    traces = LineCollection([zip(time, EEG[:, channel]) for channel in range(nchannels)], colors=color)\n",
    "    gca().add_collection(traces)\n",
    "\n",
    "    # Set the y limits of the plot to leave some spacing at the top and bottom\n",
    "    ylim(-vspace, nchannels * vspace)\n",
    "    \n",
    "    # Set the x limits\n",
    "    xlim(-0.1, 1.0)\n",
    "    \n",
    "    # Plot a vertical line on t=0\n",
    "    axvline(0, color='k')\n",
    "    \n",
    "    # Add gridlines to the plot\n",
    "    grid(True)\n",
    "    \n",
    "    # Label the axes\n",
    "    xlabel('Time (s)')\n",
    "    ylabel('Channels')\n",
    "    \n",
    "    # The y-ticks are set to the locations of the electrodes. The international 10-20 system defines\n",
    "    # default names for them.\n",
    "    gca().yaxis.set_ticks(bases)\n",
    "    gca().yaxis.set_ticklabels(channel_names)\n",
    "    \n",
    "    # Put a nice title on top of the plot\n",
    "    title('EEG data')"
   ]
  },
  {
   "cell_type": "markdown",
   "metadata": {},
   "source": [
    "Using the `plot_eeg` function to plot the ERPs of both classes (targets versus nontargets):"
   ]
  },
  {
   "cell_type": "code",
   "execution_count": null,
   "metadata": {
    "collapsed": false
   },
   "outputs": [],
   "source": [
    "# First average over trials, then over repetitions\n",
    "target_erp = mean(mean(target_trials, axis=3), axis=2)\n",
    "nontarget_erp = mean(mean(nontarget_trials, axis=3), axis=2)\n",
    "\n",
    "figure(figsize=(5,16))\n",
    "plot_eeg(target_erp, color='b', vspace=10)\n",
    "plot_eeg(nontarget_erp, color='r', vspace=10)\n",
    "legend(['targets', 'non-targets'])"
   ]
  },
  {
   "cell_type": "markdown",
   "metadata": {},
   "source": [
    "The familiar shape of the P300 is clearly visible on almost every channel.\n",
    "\n",
    "Now for the classification. Classifying the P300 is relatively simple:\n",
    "\n",
    "1. For each trial, average across the repetitions, creating one ERP for each of the 6 classes.\n",
    "1. Select channels which show a strong P300 in the training data (done manually here)\n",
    "1. For each channel, extract the average voltage for 20 time windows.\n",
    "\n",
    "The procedure is implemented in the `extract_features` function below:"
   ]
  },
  {
   "cell_type": "code",
   "execution_count": null,
   "metadata": {
    "collapsed": false
   },
   "outputs": [],
   "source": [
    "def extract_features(epoch):\n",
    "    '''\n",
    "    Extract features form an epoch for classification.\n",
    "    \n",
    "    arguments:\n",
    "        epoch - An array (channels x samples x repetitions) containing the epoch to extract features from.\n",
    "    returns:\n",
    "        A flat array containing the features.\n",
    "    '''\n",
    "    \n",
    "    # Collect the features into this list\n",
    "    features = []\n",
    "    \n",
    "    # First average over repetitions\n",
    "    epoch = mean(epoch, axis=2)\n",
    "\n",
    "    # Extract channels of interest\n",
    "    channels_of_interest = ['Fz', 'C3', 'Cz', 'C4', 'Pz', 'P3', 'P4']\n",
    "    #channels_of_interest = channel_names\n",
    "    epoch = epoch[[channel_names.index(ch) for ch in channels_of_interest], :]\n",
    "    \n",
    "    # Finally, take the avarage value for 20 time windows\n",
    "    nwindows = 20\n",
    "    window_length = int(epoch.shape[1] / float(nwindows))\n",
    "    for channel in range(len(channels_of_interest)):\n",
    "        for window in range(nwindows):\n",
    "            feature = mean(epoch[channel, window*window_length:(window+1)*window_length])\n",
    "            features.append(feature)\n",
    "    \n",
    "    return array(features)"
   ]
  },
  {
   "cell_type": "markdown",
   "metadata": {},
   "source": [
    "Applying the `extract_features` function to create the final training data:"
   ]
  },
  {
   "cell_type": "code",
   "execution_count": null,
   "metadata": {
    "collapsed": false
   },
   "outputs": [],
   "source": [
    "target_features = vstack([extract_features(target_trials[...,i]) for i in range(target_trials.shape[-1])])\n",
    "nontarget_features = vstack([extract_features(nontarget_trials[...,i]) for i in range(nontarget_trials.shape[-1])])\n",
    "\n",
    "print 'observations x features'\n",
    "print target_features.shape\n",
    "print nontarget_features.shape"
   ]
  },
  {
   "cell_type": "markdown",
   "metadata": {},
   "source": [
    "As a classifier, we bring back the LDA used in the previous tutorial:"
   ]
  },
  {
   "cell_type": "code",
   "execution_count": null,
   "metadata": {
    "collapsed": false
   },
   "outputs": [],
   "source": [
    "def train_lda(class1, class2):\n",
    "    '''\n",
    "    Trains the LDA algorithm.\n",
    "    arguments:\n",
    "        class1 - An array (observations x features) for class 1\n",
    "        class2 - An array (observations x features) for class 2\n",
    "    returns:\n",
    "        The projection matrix W\n",
    "        The offset b\n",
    "    '''\n",
    "    nclasses = 2\n",
    "    \n",
    "    nclass1 = class1.shape[0]\n",
    "    nclass2 = class2.shape[0]\n",
    "    \n",
    "    # Class priors: in this case, there are an unequal number of training\n",
    "    # examples for each class. There are 5 times as many nontarget trials\n",
    "    # as target trials.\n",
    "    prior1 = nclass1 / float(nclass1 + nclass2)\n",
    "    prior2 = nclass2 / float(nclass1 + nclass2)\n",
    "    \n",
    "    mean1 = np.mean(class1, axis=0)\n",
    "    mean2 = np.mean(class2, axis=0)\n",
    "    \n",
    "    class1_centered = class1 - mean1\n",
    "    class2_centered = class2 - mean2\n",
    "    \n",
    "    # Calculate the covariance between the features\n",
    "    cov1 = class1_centered.T.dot(class1_centered) / (nclass1 - nclasses)\n",
    "    cov2 = class2_centered.T.dot(class2_centered) / (nclass2 - nclasses)\n",
    "     \n",
    "    W = (mean2 - mean1).dot(np.linalg.pinv(prior1*cov1 + prior2*cov2))\n",
    "    b = (prior1*mean1 + prior2*mean2).dot(W)\n",
    "    \n",
    "    return (W, b)\n",
    "\n",
    "def apply_lda(test, W, b):\n",
    "    '''\n",
    "    Applies a previously trained LDA to new data.\n",
    "    arguments:\n",
    "        test - An array (observations x features) containing the data\n",
    "        W    - The project matrix W as calculated by train_lda()\n",
    "        b    - The offsets b as calculated by train_lda()\n",
    "    returns:\n",
    "        A list containing the classification result for each trial\n",
    "    '''\n",
    "    return test.dot(W) - b"
   ]
  },
  {
   "cell_type": "markdown",
   "metadata": {},
   "source": [
    "The code below applies the LDA classifier to determine for each trial, which of the 6 icons corresponds to the largest P300 potential:"
   ]
  },
  {
   "cell_type": "code",
   "execution_count": null,
   "metadata": {
    "collapsed": false
   },
   "outputs": [],
   "source": [
    "def classify(trials, W, b):\n",
    "    '''\n",
    "    Apply the LDA classifier to the test trials.\n",
    "\n",
    "    arguments:\n",
    "        trials - An array (channels x samples x repetitions x classes x trials) containing the test trials.\n",
    "        W      - The weights W as returned by train_lda()\n",
    "        b      - The offsets b as returned by train_lda()\n",
    "    returns:\n",
    "        A list containing the predicted target icon for each trial.\n",
    "    '''\n",
    "    \n",
    "    nclasses = trials.shape[3]\n",
    "    ntrials = trials.shape[4]\n",
    "    \n",
    "    predicted_targets = []\n",
    "    for trial in range(ntrials):\n",
    "        # Feature extraction\n",
    "        features = vstack([extract_features(test[:,:,:,cl,trial]) for cl in range(nclasses)])\n",
    "        \n",
    "        # Classification\n",
    "        p = apply_lda(features, W, b)\n",
    "        \n",
    "        # Determine icon with the highest P300\n",
    "        predicted_targets.append( argmin(p) )\n",
    "        \n",
    "    return array(predicted_targets)"
   ]
  },
  {
   "cell_type": "markdown",
   "metadata": {},
   "source": [
    "Training the classifier on the training data, applying it on the test data:"
   ]
  },
  {
   "cell_type": "code",
   "execution_count": null,
   "metadata": {
    "collapsed": false
   },
   "outputs": [],
   "source": [
    "W, b = train_lda(target_features, nontarget_features)\n",
    "predicted_targets = classify(test, W, b)\n",
    "\n",
    "print 'Predicted targets:', predicted_targets\n",
    "print 'Real targets:     ', test_targets\n",
    "print 'Accuracy: %.2f' % (len(flatnonzero(predicted_targets == test_targets)) / float(ntest_trials))"
   ]
  },
  {
   "cell_type": "markdown",
   "metadata": {},
   "source": [
    "You see that with the first 6 trials as training data, we were able to correctly determine the target icon in the 5 of the 6 remaining trials, using relatively simple techniques."
   ]
  }
 ],
 "metadata": {
  "kernelspec": {
   "display_name": "Python 2",
   "language": "python",
   "name": "python2"
  },
  "language_info": {
   "codemirror_mode": {
    "name": "ipython",
    "version": 2
   },
   "file_extension": ".py",
   "mimetype": "text/x-python",
   "name": "python",
   "nbconvert_exporter": "python",
   "pygments_lexer": "ipython2",
   "version": "2.7.10"
  }
 },
 "nbformat": 4,
 "nbformat_minor": 0
}
